{
 "cells": [
  {
   "cell_type": "code",
   "execution_count": null,
   "id": "3627be5c",
   "metadata": {},
   "outputs": [
    {
     "name": "stdout",
     "output_type": "stream",
     "text": [
      "*******************************************************\n",
      "\n",
      "User said - hello\n",
      "Bot said - Hi! How can I assist you?\n",
      "\n",
      "User said - how are you\n",
      "Bot said - I'm doing well, how about you?\n",
      "\n"
     ]
    }
   ],
   "source": [
    "import random\n",
    "\n",
    "responses = {\n",
    "    \"hello\": [\"Hello!\", \"Hi there!\", \"Hey!\", \"Hi! How can I assist you?\"],\n",
    "    \"bye\": [\"Goodbye!\", \"See you later!\", \"Bye now!\", \"Have a great day!\"],\n",
    "    \"how are you\": [\"I'm good, thanks!\", \"I'm doing well, how about you?\", \"Feeling great!\"],\n",
    "    \"name\": [\"You can call me TVC bot.\", \"I go by TVC bot.\", \"I'm TVC bot, nice to meet you!\"],\n",
    "    \"menu\": [\"We have a variety of option available.\"],\n",
    "    \"hours\": [\"We are open from 7am to 4pm, Monday to Friday.\"],\n",
    "    \"default\": [\"I'm not sure how to respond to that.\", \"Can you please rephrase that?\", \"I'm still learning!\"]\n",
    "}\n",
    "\n",
    "def get_response(user_input):\n",
    "    user_input = user_input.lower()\n",
    "\n",
    "    for key, value in responses.items():\n",
    "        if user_input in key:\n",
    "            return random.choice(value)\n",
    "\n",
    "    return random.choice(responses[\"default\"])\n",
    "\n",
    "print(\"*******************************************************\\n\")\n",
    "\n",
    "while True:\n",
    "    user_input = input('User said - ')\n",
    "    \n",
    "    if user_input.lower() == 'exit':\n",
    "        print(\"Bot said - Goodbye!\")\n",
    "        break\n",
    "\n",
    "    response = get_response(user_input)\n",
    "    print(f'Bot said - {response}\\n')"
   ]
  },
  {
   "cell_type": "code",
   "execution_count": null,
   "id": "631646ec",
   "metadata": {},
   "outputs": [],
   "source": []
  }
 ],
 "metadata": {
  "kernelspec": {
   "display_name": "Python 3 (ipykernel)",
   "language": "python",
   "name": "python3"
  },
  "language_info": {
   "codemirror_mode": {
    "name": "ipython",
    "version": 3
   },
   "file_extension": ".py",
   "mimetype": "text/x-python",
   "name": "python",
   "nbconvert_exporter": "python",
   "pygments_lexer": "ipython3",
   "version": "3.10.9"
  }
 },
 "nbformat": 4,
 "nbformat_minor": 5
}
